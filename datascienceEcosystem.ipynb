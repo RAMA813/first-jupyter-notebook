{
 "cells": [
  {
   "cell_type": "code",
   "execution_count": null,
   "id": "9ad02966-26e4-409e-aec0-bbc6ba0e845a",
   "metadata": {},
   "outputs": [],
   "source": []
  },
  {
   "cell_type": "markdown",
   "id": "4568ae4c-1326-4165-a348-ff27321dc43b",
   "metadata": {},
   "source": [
    ".H1 # Data science tools and ecosystem"
   ]
  },
  {
   "cell_type": "markdown",
   "id": "c808ab4e-3c25-42eb-9b5c-4c282429a87d",
   "metadata": {},
   "source": [
    "# introduccion\n",
    "In this notebook datascience tools and ecosystem are summarized"
   ]
  },
  {
   "cell_type": "markdown",
   "id": "a48125eb-b16b-4c6b-b5ce-dec9fe57f41d",
   "metadata": {},
   "source": [
    "##**objectives**\n",
    "the objectives of this notebookae:\n",
    "_ To understand the basics of ata science.\n",
    "_ To learn about variousprograminglangueges used in Data science.\n",
    "_ To explore essential libraries for Data manipulation and visualization.\n",
    "_ To practice aarithmetic operationsand their implementations in Python.\n",
    "_ To devlop skills in converting and calculatingtime durations."
   ]
  },
  {
   "cell_type": "markdown",
   "id": "705c6da7-6f64-4c97-857f-eae33bdeb55f",
   "metadata": {},
   "source": [
    "#some of the popular langueges that datascientist use are:\n",
    "_Python\n",
    "_R\n",
    "_SQL\n",
    "_Julia\n",
    "_Scala\n",
    "_Java"
   ]
  },
  {
   "cell_type": "markdown",
   "id": "383fed9a-ae56-41d4-9f78-75d5529f1a03",
   "metadata": {},
   "source": [
    "#some of the commonly used librairies used by datascienist include:\n",
    "_Numpy\n",
    "_Pandas\n",
    "_Matlotlib\n",
    "_Seaborn\n",
    "_Scikit-learn\n",
    "_Tensorflow\n",
    "_Keras\n"
   ]
  },
  {
   "cell_type": "markdown",
   "id": "26c703df-5414-4a27-bc56-edc34f924f79",
   "metadata": {},
   "source": [
    "## Data science tools:\n",
    "   | tools                |\n",
    "   |----------------------|\n",
    "   | jupyter notebook     |\n",
    "   | RStudio              |\n",
    "   | Apache Spark         |\n",
    "   | Tensor Flow          |\n",
    "   | RapidMiner           |"
   ]
  },
  {
   "cell_type": "markdown",
   "id": "68704c8b-08cd-445c-b598-2a87a6c96bcd",
   "metadata": {},
   "source": [
    "### Examples of python ariyhmetic expressions.\n",
    "Below are a few examples of evaluating arithmetic expressions in python:\n",
    "_ Addition      : `3 + 5´ results  in ´8´\n",
    "_ Subtraction   : ´10 - 4´results  in ´6´\n",
    "_ Multiplication: ´6 * 7´ results  in ´42´\n",
    "_ Division      : ´20 / 4´results  in ´5´\n",
    "_ Exponentiation: ´2**3´ results   in ´8´\n",
    "_ Modulus (remainder):´10 % 3´results in ´1´\n"
   ]
  },
  {
   "cell_type": "code",
   "execution_count": 9,
   "id": "3c9e7a9c-7a7d-4fce-bbb5-05683a7e23e5",
   "metadata": {},
   "outputs": [
    {
     "name": "stdout",
     "output_type": "stream",
     "text": [
      "17\n"
     ]
    }
   ],
   "source": [
    "# this is a simple arithmetic expression to multiply then add integers:\n",
    "result = (3*4) + 5\n",
    "print (result)"
   ]
  },
  {
   "cell_type": "code",
   "execution_count": 7,
   "id": "9dce6ad2-9a88-4c03-ac18-ed79113c6af6",
   "metadata": {},
   "outputs": [
    {
     "name": "stdout",
     "output_type": "stream",
     "text": [
      "200minutes is equal to3.3333333333333335hours.\n"
     ]
    }
   ],
   "source": [
    "#convert 200 minutes to hours by diving by 60\n",
    "minutes=(200)\n",
    "hours=(minutes/60)\n",
    "print(f\"{minutes}minutes is equal to{hours}hours.\")"
   ]
  },
  {
   "cell_type": "markdown",
   "id": "aadc6c57-fc43-4079-bebb-1ed3636413d2",
   "metadata": {},
   "source": [
    "## AUTOR.\n",
    "       RACHID MANSORI BOUSSLIM"
   ]
  }
 ],
 "metadata": {
  "kernelspec": {
   "display_name": "Python 3 (ipykernel)",
   "language": "python",
   "name": "python3"
  },
  "language_info": {
   "codemirror_mode": {
    "name": "ipython",
    "version": 3
   },
   "file_extension": ".py",
   "mimetype": "text/x-python",
   "name": "python",
   "nbconvert_exporter": "python",
   "pygments_lexer": "ipython3",
   "version": "3.8.2"
  }
 },
 "nbformat": 4,
 "nbformat_minor": 5
}
